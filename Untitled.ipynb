{
 "cells": [
  {
   "cell_type": "code",
   "id": "5a86f22b",
   "metadata": {
    "ExecuteTime": {
     "end_time": "2024-11-29T06:13:30.635739Z",
     "start_time": "2024-11-29T06:13:30.631376Z"
    }
   },
   "source": [
    "import pandas as pd\n",
    "import joblib"
   ],
   "outputs": [],
   "execution_count": 11
  },
  {
   "cell_type": "code",
   "id": "18012851",
   "metadata": {
    "ExecuteTime": {
     "end_time": "2024-11-29T06:13:32.749643Z",
     "start_time": "2024-11-29T06:13:31.397987Z"
    }
   },
   "source": [
    "voting_reg = None\n",
    "with open(\"voting_reg.joblib\", 'rb') as file:\n",
    "    voting_reg = joblib.load(file)"
   ],
   "outputs": [],
   "execution_count": 12
  },
  {
   "metadata": {
    "ExecuteTime": {
     "end_time": "2024-11-29T06:13:34.707316Z",
     "start_time": "2024-11-29T06:13:34.674237Z"
    }
   },
   "cell_type": "code",
   "source": [
    "class CustomAttr(BaseEstimator, TransformerMixin):\n",
    "    def __init__(self):\n",
    "        pass\n",
    "    \n",
    "    def fit(self, X, y=None):\n",
    "        return self\n",
    "    \n",
    "    def transform(self, X):\n",
    "        try:\n",
    "            X['is_sequel'] = X['belongs_to_collection'].apply(lambda x: 0 if pd.isna(x) else 1)\n",
    "#             print(\"is_sequel attribute added!\")\n",
    "            \n",
    "            X['release_date']= X['release_date'].apply(lambda x: self.modify_date(x))\n",
    "            \n",
    "            X['release_year'] = pd.DatetimeIndex(X['release_date']).year\n",
    "#             print(\"release_year attribute added!\")\n",
    "            \n",
    "            X['release_month'] = pd.DatetimeIndex(X['release_date']).month\n",
    "#             print(\"release_month attribute added!\")\n",
    "            \n",
    "            X['release_day'] = pd.DatetimeIndex(X['release_date']).day\n",
    "#             print(\"release_day attribute added!\")\n",
    "            \n",
    "            X['release_dow'] = pd.DatetimeIndex(X['release_date']).dayofweek\n",
    "#             print(\"release_dow attribute added!\")\n",
    "            \n",
    "            X = X.drop(['belongs_to_collection', 'release_date'], axis=1)\n",
    "#             print(\"belongs_to_collection, release_date attribute removed!\")\n",
    "            return X\n",
    "        except Exception as e:\n",
    "            print(\"CustomAttr: Exception caught: {}\".format(e))\n",
    "\n",
    "    @staticmethod\n",
    "    def modify_date(x):\n",
    "        \"\"\"\n",
    "            Converting date: mm/dd/YY to mm/dd/YYYY\n",
    "            NaN date fields are handle here only.\n",
    "        \"\"\"\n",
    "        try:\n",
    "            if x is np.nan:\n",
    "                x='01/01/00'\n",
    "            x=str(x)\n",
    "            year=x.split('/')[2]\n",
    "            if int(year)<20:\n",
    "                return x[:-2]+'20'+year\n",
    "            else:\n",
    "                return x[:-2]+'19'+year\n",
    "        except Exception as e:\n",
    "            print(\"CustomAttr: modify_date() function -  exception caught for date {}: {}\".format(x,e))"
   ],
   "id": "ce1ca6aaf00214af",
   "outputs": [
    {
     "ename": "NameError",
     "evalue": "name 'BaseEstimator' is not defined",
     "output_type": "error",
     "traceback": [
      "\u001B[1;31m---------------------------------------------------------------------------\u001B[0m",
      "\u001B[1;31mNameError\u001B[0m                                 Traceback (most recent call last)",
      "Cell \u001B[1;32mIn[13], line 1\u001B[0m\n\u001B[1;32m----> 1\u001B[0m \u001B[38;5;28;01mclass\u001B[39;00m \u001B[38;5;21;01mCustomAttr\u001B[39;00m(BaseEstimator, TransformerMixin):\n\u001B[0;32m      2\u001B[0m     \u001B[38;5;28;01mdef\u001B[39;00m \u001B[38;5;21m__init__\u001B[39m(\u001B[38;5;28mself\u001B[39m):\n\u001B[0;32m      3\u001B[0m         \u001B[38;5;28;01mpass\u001B[39;00m\n",
      "\u001B[1;31mNameError\u001B[0m: name 'BaseEstimator' is not defined"
     ]
    }
   ],
   "execution_count": 13
  },
  {
   "cell_type": "code",
   "id": "c0484ea3",
   "metadata": {
    "ExecuteTime": {
     "end_time": "2024-11-29T06:10:56.112354Z",
     "start_time": "2024-11-29T06:10:55.865131Z"
    }
   },
   "source": [
    "preprocess = None\n",
    "with open(\"pre_process.joblib\", 'rb') as file:\n",
    "    preprocess =joblib.load(file)"
   ],
   "outputs": [
    {
     "ename": "AttributeError",
     "evalue": "Can't get attribute 'CustomAttr' on <module '__main__'>",
     "output_type": "error",
     "traceback": [
      "\u001B[1;31m---------------------------------------------------------------------------\u001B[0m",
      "\u001B[1;31mAttributeError\u001B[0m                            Traceback (most recent call last)",
      "Cell \u001B[1;32mIn[9], line 3\u001B[0m\n\u001B[0;32m      1\u001B[0m preprocess \u001B[38;5;241m=\u001B[39m \u001B[38;5;28;01mNone\u001B[39;00m\n\u001B[0;32m      2\u001B[0m \u001B[38;5;28;01mwith\u001B[39;00m \u001B[38;5;28mopen\u001B[39m(\u001B[38;5;124m\"\u001B[39m\u001B[38;5;124mpre_process.joblib\u001B[39m\u001B[38;5;124m\"\u001B[39m, \u001B[38;5;124m'\u001B[39m\u001B[38;5;124mrb\u001B[39m\u001B[38;5;124m'\u001B[39m) \u001B[38;5;28;01mas\u001B[39;00m file:\n\u001B[1;32m----> 3\u001B[0m     preprocess \u001B[38;5;241m=\u001B[39mjoblib\u001B[38;5;241m.\u001B[39mload(file)\n",
      "File \u001B[1;32m~\\AppData\\Roaming\\Python\\Python311\\site-packages\\joblib\\numpy_pickle.py:648\u001B[0m, in \u001B[0;36mload\u001B[1;34m(filename, mmap_mode)\u001B[0m\n\u001B[0;32m    646\u001B[0m     filename \u001B[38;5;241m=\u001B[39m \u001B[38;5;28mgetattr\u001B[39m(fobj, \u001B[38;5;124m'\u001B[39m\u001B[38;5;124mname\u001B[39m\u001B[38;5;124m'\u001B[39m, \u001B[38;5;124m'\u001B[39m\u001B[38;5;124m'\u001B[39m)\n\u001B[0;32m    647\u001B[0m     \u001B[38;5;28;01mwith\u001B[39;00m _read_fileobject(fobj, filename, mmap_mode) \u001B[38;5;28;01mas\u001B[39;00m fobj:\n\u001B[1;32m--> 648\u001B[0m         obj \u001B[38;5;241m=\u001B[39m _unpickle(fobj)\n\u001B[0;32m    649\u001B[0m \u001B[38;5;28;01melse\u001B[39;00m:\n\u001B[0;32m    650\u001B[0m     \u001B[38;5;28;01mwith\u001B[39;00m \u001B[38;5;28mopen\u001B[39m(filename, \u001B[38;5;124m'\u001B[39m\u001B[38;5;124mrb\u001B[39m\u001B[38;5;124m'\u001B[39m) \u001B[38;5;28;01mas\u001B[39;00m f:\n",
      "File \u001B[1;32m~\\AppData\\Roaming\\Python\\Python311\\site-packages\\joblib\\numpy_pickle.py:577\u001B[0m, in \u001B[0;36m_unpickle\u001B[1;34m(fobj, filename, mmap_mode)\u001B[0m\n\u001B[0;32m    575\u001B[0m obj \u001B[38;5;241m=\u001B[39m \u001B[38;5;28;01mNone\u001B[39;00m\n\u001B[0;32m    576\u001B[0m \u001B[38;5;28;01mtry\u001B[39;00m:\n\u001B[1;32m--> 577\u001B[0m     obj \u001B[38;5;241m=\u001B[39m unpickler\u001B[38;5;241m.\u001B[39mload()\n\u001B[0;32m    578\u001B[0m     \u001B[38;5;28;01mif\u001B[39;00m unpickler\u001B[38;5;241m.\u001B[39mcompat_mode:\n\u001B[0;32m    579\u001B[0m         warnings\u001B[38;5;241m.\u001B[39mwarn(\u001B[38;5;124m\"\u001B[39m\u001B[38;5;124mThe file \u001B[39m\u001B[38;5;124m'\u001B[39m\u001B[38;5;132;01m%s\u001B[39;00m\u001B[38;5;124m'\u001B[39m\u001B[38;5;124m has been generated with a \u001B[39m\u001B[38;5;124m\"\u001B[39m\n\u001B[0;32m    580\u001B[0m                       \u001B[38;5;124m\"\u001B[39m\u001B[38;5;124mjoblib version less than 0.10. \u001B[39m\u001B[38;5;124m\"\u001B[39m\n\u001B[0;32m    581\u001B[0m                       \u001B[38;5;124m\"\u001B[39m\u001B[38;5;124mPlease regenerate this pickle file.\u001B[39m\u001B[38;5;124m\"\u001B[39m\n\u001B[0;32m    582\u001B[0m                       \u001B[38;5;241m%\u001B[39m filename,\n\u001B[0;32m    583\u001B[0m                       \u001B[38;5;167;01mDeprecationWarning\u001B[39;00m, stacklevel\u001B[38;5;241m=\u001B[39m\u001B[38;5;241m3\u001B[39m)\n",
      "File \u001B[1;32mC:\\Program Files\\Python311\\Lib\\pickle.py:1213\u001B[0m, in \u001B[0;36m_Unpickler.load\u001B[1;34m(self)\u001B[0m\n\u001B[0;32m   1211\u001B[0m             \u001B[38;5;28;01mraise\u001B[39;00m \u001B[38;5;167;01mEOFError\u001B[39;00m\n\u001B[0;32m   1212\u001B[0m         \u001B[38;5;28;01massert\u001B[39;00m \u001B[38;5;28misinstance\u001B[39m(key, bytes_types)\n\u001B[1;32m-> 1213\u001B[0m         dispatch[key[\u001B[38;5;241m0\u001B[39m]](\u001B[38;5;28mself\u001B[39m)\n\u001B[0;32m   1214\u001B[0m \u001B[38;5;28;01mexcept\u001B[39;00m _Stop \u001B[38;5;28;01mas\u001B[39;00m stopinst:\n\u001B[0;32m   1215\u001B[0m     \u001B[38;5;28;01mreturn\u001B[39;00m stopinst\u001B[38;5;241m.\u001B[39mvalue\n",
      "File \u001B[1;32mC:\\Program Files\\Python311\\Lib\\pickle.py:1538\u001B[0m, in \u001B[0;36m_Unpickler.load_stack_global\u001B[1;34m(self)\u001B[0m\n\u001B[0;32m   1536\u001B[0m \u001B[38;5;28;01mif\u001B[39;00m \u001B[38;5;28mtype\u001B[39m(name) \u001B[38;5;129;01mis\u001B[39;00m \u001B[38;5;129;01mnot\u001B[39;00m \u001B[38;5;28mstr\u001B[39m \u001B[38;5;129;01mor\u001B[39;00m \u001B[38;5;28mtype\u001B[39m(module) \u001B[38;5;129;01mis\u001B[39;00m \u001B[38;5;129;01mnot\u001B[39;00m \u001B[38;5;28mstr\u001B[39m:\n\u001B[0;32m   1537\u001B[0m     \u001B[38;5;28;01mraise\u001B[39;00m UnpicklingError(\u001B[38;5;124m\"\u001B[39m\u001B[38;5;124mSTACK_GLOBAL requires str\u001B[39m\u001B[38;5;124m\"\u001B[39m)\n\u001B[1;32m-> 1538\u001B[0m \u001B[38;5;28mself\u001B[39m\u001B[38;5;241m.\u001B[39mappend(\u001B[38;5;28mself\u001B[39m\u001B[38;5;241m.\u001B[39mfind_class(module, name))\n",
      "File \u001B[1;32mC:\\Program Files\\Python311\\Lib\\pickle.py:1582\u001B[0m, in \u001B[0;36m_Unpickler.find_class\u001B[1;34m(self, module, name)\u001B[0m\n\u001B[0;32m   1580\u001B[0m \u001B[38;5;28m__import__\u001B[39m(module, level\u001B[38;5;241m=\u001B[39m\u001B[38;5;241m0\u001B[39m)\n\u001B[0;32m   1581\u001B[0m \u001B[38;5;28;01mif\u001B[39;00m \u001B[38;5;28mself\u001B[39m\u001B[38;5;241m.\u001B[39mproto \u001B[38;5;241m>\u001B[39m\u001B[38;5;241m=\u001B[39m \u001B[38;5;241m4\u001B[39m:\n\u001B[1;32m-> 1582\u001B[0m     \u001B[38;5;28;01mreturn\u001B[39;00m _getattribute(sys\u001B[38;5;241m.\u001B[39mmodules[module], name)[\u001B[38;5;241m0\u001B[39m]\n\u001B[0;32m   1583\u001B[0m \u001B[38;5;28;01melse\u001B[39;00m:\n\u001B[0;32m   1584\u001B[0m     \u001B[38;5;28;01mreturn\u001B[39;00m \u001B[38;5;28mgetattr\u001B[39m(sys\u001B[38;5;241m.\u001B[39mmodules[module], name)\n",
      "File \u001B[1;32mC:\\Program Files\\Python311\\Lib\\pickle.py:331\u001B[0m, in \u001B[0;36m_getattribute\u001B[1;34m(obj, name)\u001B[0m\n\u001B[0;32m    329\u001B[0m         obj \u001B[38;5;241m=\u001B[39m \u001B[38;5;28mgetattr\u001B[39m(obj, subpath)\n\u001B[0;32m    330\u001B[0m     \u001B[38;5;28;01mexcept\u001B[39;00m \u001B[38;5;167;01mAttributeError\u001B[39;00m:\n\u001B[1;32m--> 331\u001B[0m         \u001B[38;5;28;01mraise\u001B[39;00m \u001B[38;5;167;01mAttributeError\u001B[39;00m(\u001B[38;5;124m\"\u001B[39m\u001B[38;5;124mCan\u001B[39m\u001B[38;5;124m'\u001B[39m\u001B[38;5;124mt get attribute \u001B[39m\u001B[38;5;132;01m{!r}\u001B[39;00m\u001B[38;5;124m on \u001B[39m\u001B[38;5;132;01m{!r}\u001B[39;00m\u001B[38;5;124m\"\u001B[39m\n\u001B[0;32m    332\u001B[0m                              \u001B[38;5;241m.\u001B[39mformat(name, obj)) \u001B[38;5;28;01mfrom\u001B[39;00m \u001B[38;5;28;01mNone\u001B[39;00m\n\u001B[0;32m    333\u001B[0m \u001B[38;5;28;01mreturn\u001B[39;00m obj, parent\n",
      "\u001B[1;31mAttributeError\u001B[0m: Can't get attribute 'CustomAttr' on <module '__main__'>"
     ]
    }
   ],
   "execution_count": 9
  },
  {
   "metadata": {
    "ExecuteTime": {
     "end_time": "2024-11-29T06:30:40.999182Z",
     "start_time": "2024-11-29T06:30:40.925119Z"
    }
   },
   "cell_type": "code",
   "source": "import pandas as pd",
   "id": "9dfd79406d911141",
   "outputs": [],
   "execution_count": 14
  },
  {
   "metadata": {
    "ExecuteTime": {
     "end_time": "2024-11-29T06:34:50.615079Z",
     "start_time": "2024-11-29T06:34:50.083230Z"
    }
   },
   "cell_type": "code",
   "source": [
    "df1 = pd.read_csv('tmdb_5000_movies.csv')\n",
    "df1.columns"
   ],
   "id": "5268f9c93bb03781",
   "outputs": [
    {
     "data": {
      "text/plain": [
       "Index(['budget', 'genres', 'homepage', 'id', 'keywords', 'original_language',\n",
       "       'original_title', 'overview', 'popularity', 'production_companies',\n",
       "       'production_countries', 'release_date', 'revenue', 'runtime',\n",
       "       'spoken_languages', 'status', 'tagline', 'title', 'vote_average',\n",
       "       'vote_count'],\n",
       "      dtype='object')"
      ]
     },
     "execution_count": 17,
     "metadata": {},
     "output_type": "execute_result"
    }
   ],
   "execution_count": 17
  },
  {
   "metadata": {
    "ExecuteTime": {
     "end_time": "2024-11-29T06:34:52.738259Z",
     "start_time": "2024-11-29T06:34:51.996029Z"
    }
   },
   "cell_type": "code",
   "source": [
    "df2 = pd.read_csv('tmdb_5000_credits.csv')\n",
    "df2.columns"
   ],
   "id": "c9a9a5d61febd00c",
   "outputs": [
    {
     "data": {
      "text/plain": [
       "Index(['movie_id', 'title', 'cast', 'crew'], dtype='object')"
      ]
     },
     "execution_count": 18,
     "metadata": {},
     "output_type": "execute_result"
    }
   ],
   "execution_count": 18
  },
  {
   "metadata": {
    "ExecuteTime": {
     "end_time": "2024-11-29T06:35:06.075785Z",
     "start_time": "2024-11-29T06:35:05.980464Z"
    }
   },
   "cell_type": "code",
   "source": "(df1['title'])",
   "id": "9416ac8524bff29",
   "outputs": [
    {
     "data": {
      "text/plain": [
       "0                                         Avatar\n",
       "1       Pirates of the Caribbean: At World's End\n",
       "2                                        Spectre\n",
       "3                          The Dark Knight Rises\n",
       "4                                    John Carter\n",
       "                          ...                   \n",
       "4798                                 El Mariachi\n",
       "4799                                   Newlyweds\n",
       "4800                   Signed, Sealed, Delivered\n",
       "4801                            Shanghai Calling\n",
       "4802                           My Date with Drew\n",
       "Name: title, Length: 4803, dtype: object"
      ]
     },
     "execution_count": 19,
     "metadata": {},
     "output_type": "execute_result"
    }
   ],
   "execution_count": 19
  },
  {
   "metadata": {
    "ExecuteTime": {
     "end_time": "2024-11-29T06:35:19.087135Z",
     "start_time": "2024-11-29T06:35:19.079928Z"
    }
   },
   "cell_type": "code",
   "source": "print(df2.title)",
   "id": "fd2eccd316c46351",
   "outputs": [
    {
     "name": "stdout",
     "output_type": "stream",
     "text": [
      "0                                         Avatar\n",
      "1       Pirates of the Caribbean: At World's End\n",
      "2                                        Spectre\n",
      "3                          The Dark Knight Rises\n",
      "4                                    John Carter\n",
      "                          ...                   \n",
      "4798                                 El Mariachi\n",
      "4799                                   Newlyweds\n",
      "4800                   Signed, Sealed, Delivered\n",
      "4801                            Shanghai Calling\n",
      "4802                           My Date with Drew\n",
      "Name: title, Length: 4803, dtype: object\n"
     ]
    }
   ],
   "execution_count": 20
  },
  {
   "metadata": {
    "ExecuteTime": {
     "end_time": "2024-11-29T06:39:36.129488Z",
     "start_time": "2024-11-29T06:39:35.043065Z"
    }
   },
   "cell_type": "code",
   "source": "pd.read_csv('train.csv').columns",
   "id": "1eab0c6bb47e585f",
   "outputs": [
    {
     "data": {
      "text/plain": [
       "Index(['id', 'belongs_to_collection', 'budget', 'genres', 'homepage',\n",
       "       'imdb_id', 'original_language', 'original_title', 'overview',\n",
       "       'popularity', 'poster_path', 'production_companies',\n",
       "       'production_countries', 'release_date', 'runtime', 'spoken_languages',\n",
       "       'status', 'tagline', 'title', 'Keywords', 'cast', 'crew', 'revenue'],\n",
       "      dtype='object')"
      ]
     },
     "execution_count": 21,
     "metadata": {},
     "output_type": "execute_result"
    }
   ],
   "execution_count": 21
  },
  {
   "metadata": {},
   "cell_type": "code",
   "outputs": [],
   "execution_count": null,
   "source": [
    "(4803, 22)\n",
    "\n",
    "Index(['id', 'cast', 'crew', 'budget', 'genres', 'homepage', 'keywords',\n",
    "       'original_language', 'original_title', 'overview', 'popularity',\n",
    "       'production_companies', 'production_countries', 'release_date',\n",
    "       'revenue', 'runtime', 'spoken_languages', 'status', 'tagline',\n",
    "       'title_movies', 'vote_average', 'vote_count'],\n",
    "      dtype='object')"
   ],
   "id": "89be29ae1351426c"
  }
 ],
 "metadata": {
  "kernelspec": {
   "display_name": "Python 3 (ipykernel)",
   "language": "python",
   "name": "python3"
  },
  "language_info": {
   "codemirror_mode": {
    "name": "ipython",
    "version": 3
   },
   "file_extension": ".py",
   "mimetype": "text/x-python",
   "name": "python",
   "nbconvert_exporter": "python",
   "pygments_lexer": "ipython3",
   "version": "3.11.2"
  }
 },
 "nbformat": 4,
 "nbformat_minor": 5
}
